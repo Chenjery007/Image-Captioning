{
 "cells": [
  {
   "cell_type": "code",
   "execution_count": 2,
   "id": "sp2evy4JmSMU",
   "metadata": {
    "colab": {
     "base_uri": "https://localhost:8080/",
     "height": 142
    },
    "id": "sp2evy4JmSMU",
    "outputId": "a87aed23-e043-48f0-b5c5-a8e525a836bc"
   },
   "outputs": [
    {
     "name": "stdout",
     "output_type": "stream",
     "text": [
      "Dataset URL: https://www.kaggle.com/datasets/adityajn105/flickr8k\n",
      "Download and unzip complete.\n"
     ]
    }
   ],
   "source": [
    "import kaggle\n",
    "import os\n",
    "\n",
    "# Set Kaggle API key directory (assuming kaggle.json is in the same folder as this notebook)\n",
    "os.environ['KAGGLE_CONFIG_DIR'] = os.getcwd()\n",
    "\n",
    "# Download the dataset\n",
    "kaggle.api.dataset_download_files('adityajn105/flickr8k', path='flickr8k_data', unzip=True)\n",
    "\n",
    "print(\"Download and unzip complete.\")\n"
   ]
  },
  {
   "cell_type": "code",
   "execution_count": 2,
   "id": "x8BuYUDJmgDz",
   "metadata": {
    "colab": {
     "base_uri": "https://localhost:8080/"
    },
    "id": "x8BuYUDJmgDz",
    "outputId": "cc68619e-cab1-4921-a02f-7d29838d6286"
   },
   "outputs": [
    {
     "name": "stdout",
     "output_type": "stream",
     "text": [
      " Captions loaded for 8091 images.\n"
     ]
    }
   ],
   "source": [
    "import pandas as pd\n",
    "\n",
    "CAPTIONS_FILE = 'flickr8k_data/captions.txt'\n",
    "IMAGE_DIR = 'flickr8k_data/Images'\n",
    "\n",
    "\n",
    "# Load the CSV captions file\n",
    "df = pd.read_csv(CAPTIONS_FILE)\n",
    "\n",
    "# Prepare the descriptions dictionary\n",
    "descriptions = {}\n",
    "for img, caption in zip(df['image'], df['caption']):\n",
    "    caption = caption.lower().strip()\n",
    "    caption = 'startseq ' + caption + ' endseq'\n",
    "    if img not in descriptions:\n",
    "        descriptions[img] = []\n",
    "    descriptions[img].append(caption)\n",
    "\n",
    "print(f\" Captions loaded for {len(descriptions)} images.\")\n",
    "\n"
   ]
  },
  {
   "cell_type": "code",
   "execution_count": 3,
   "id": "6573fe3c-7e9e-41fc-9122-15b197807573",
   "metadata": {},
   "outputs": [
    {
     "name": "stdout",
     "output_type": "stream",
     "text": [
      "Defaulting to user installation because normal site-packages is not writeable\n",
      "Requirement already satisfied: tensorflow in c:\\users\\manoj\\appdata\\roaming\\python\\python312\\site-packages (2.19.0)\n",
      "Requirement already satisfied: absl-py>=1.0.0 in c:\\users\\manoj\\appdata\\roaming\\python\\python312\\site-packages (from tensorflow) (2.3.0)\n",
      "Requirement already satisfied: astunparse>=1.6.0 in c:\\users\\manoj\\appdata\\roaming\\python\\python312\\site-packages (from tensorflow) (1.6.3)\n",
      "Requirement already satisfied: flatbuffers>=24.3.25 in c:\\users\\manoj\\appdata\\roaming\\python\\python312\\site-packages (from tensorflow) (25.2.10)\n",
      "Requirement already satisfied: gast!=0.5.0,!=0.5.1,!=0.5.2,>=0.2.1 in c:\\users\\manoj\\appdata\\roaming\\python\\python312\\site-packages (from tensorflow) (0.6.0)\n",
      "Requirement already satisfied: google-pasta>=0.1.1 in c:\\users\\manoj\\appdata\\roaming\\python\\python312\\site-packages (from tensorflow) (0.2.0)\n",
      "Requirement already satisfied: libclang>=13.0.0 in c:\\users\\manoj\\appdata\\roaming\\python\\python312\\site-packages (from tensorflow) (18.1.1)\n",
      "Requirement already satisfied: opt-einsum>=2.3.2 in c:\\users\\manoj\\appdata\\roaming\\python\\python312\\site-packages (from tensorflow) (3.4.0)\n",
      "Requirement already satisfied: packaging in c:\\programdata\\anaconda3\\lib\\site-packages (from tensorflow) (24.1)\n",
      "Requirement already satisfied: protobuf!=4.21.0,!=4.21.1,!=4.21.2,!=4.21.3,!=4.21.4,!=4.21.5,<6.0.0dev,>=3.20.3 in c:\\programdata\\anaconda3\\lib\\site-packages (from tensorflow) (4.25.3)\n",
      "Requirement already satisfied: requests<3,>=2.21.0 in c:\\programdata\\anaconda3\\lib\\site-packages (from tensorflow) (2.32.3)\n",
      "Requirement already satisfied: setuptools in c:\\programdata\\anaconda3\\lib\\site-packages (from tensorflow) (75.1.0)\n",
      "Requirement already satisfied: six>=1.12.0 in c:\\programdata\\anaconda3\\lib\\site-packages (from tensorflow) (1.16.0)\n",
      "Requirement already satisfied: termcolor>=1.1.0 in c:\\users\\manoj\\appdata\\roaming\\python\\python312\\site-packages (from tensorflow) (3.1.0)\n",
      "Requirement already satisfied: typing-extensions>=3.6.6 in c:\\programdata\\anaconda3\\lib\\site-packages (from tensorflow) (4.11.0)\n",
      "Requirement already satisfied: wrapt>=1.11.0 in c:\\programdata\\anaconda3\\lib\\site-packages (from tensorflow) (1.14.1)\n",
      "Requirement already satisfied: grpcio<2.0,>=1.24.3 in c:\\users\\manoj\\appdata\\roaming\\python\\python312\\site-packages (from tensorflow) (1.73.0)\n",
      "Requirement already satisfied: tensorboard~=2.19.0 in c:\\users\\manoj\\appdata\\roaming\\python\\python312\\site-packages (from tensorflow) (2.19.0)\n",
      "Requirement already satisfied: keras>=3.5.0 in c:\\users\\manoj\\appdata\\roaming\\python\\python312\\site-packages (from tensorflow) (3.10.0)\n",
      "Requirement already satisfied: numpy<2.2.0,>=1.26.0 in c:\\programdata\\anaconda3\\lib\\site-packages (from tensorflow) (1.26.4)\n",
      "Requirement already satisfied: h5py>=3.11.0 in c:\\programdata\\anaconda3\\lib\\site-packages (from tensorflow) (3.11.0)\n",
      "Requirement already satisfied: ml-dtypes<1.0.0,>=0.5.1 in c:\\users\\manoj\\appdata\\roaming\\python\\python312\\site-packages (from tensorflow) (0.5.1)\n",
      "Requirement already satisfied: wheel<1.0,>=0.23.0 in c:\\programdata\\anaconda3\\lib\\site-packages (from astunparse>=1.6.0->tensorflow) (0.44.0)\n",
      "Requirement already satisfied: rich in c:\\programdata\\anaconda3\\lib\\site-packages (from keras>=3.5.0->tensorflow) (13.7.1)\n",
      "Requirement already satisfied: namex in c:\\users\\manoj\\appdata\\roaming\\python\\python312\\site-packages (from keras>=3.5.0->tensorflow) (0.1.0)\n",
      "Requirement already satisfied: optree in c:\\users\\manoj\\appdata\\roaming\\python\\python312\\site-packages (from keras>=3.5.0->tensorflow) (0.16.0)\n",
      "Requirement already satisfied: charset-normalizer<4,>=2 in c:\\programdata\\anaconda3\\lib\\site-packages (from requests<3,>=2.21.0->tensorflow) (3.3.2)\n",
      "Requirement already satisfied: idna<4,>=2.5 in c:\\programdata\\anaconda3\\lib\\site-packages (from requests<3,>=2.21.0->tensorflow) (3.7)\n",
      "Requirement already satisfied: urllib3<3,>=1.21.1 in c:\\programdata\\anaconda3\\lib\\site-packages (from requests<3,>=2.21.0->tensorflow) (2.2.3)\n",
      "Requirement already satisfied: certifi>=2017.4.17 in c:\\programdata\\anaconda3\\lib\\site-packages (from requests<3,>=2.21.0->tensorflow) (2024.8.30)\n",
      "Requirement already satisfied: markdown>=2.6.8 in c:\\programdata\\anaconda3\\lib\\site-packages (from tensorboard~=2.19.0->tensorflow) (3.4.1)\n",
      "Requirement already satisfied: tensorboard-data-server<0.8.0,>=0.7.0 in c:\\users\\manoj\\appdata\\roaming\\python\\python312\\site-packages (from tensorboard~=2.19.0->tensorflow) (0.7.2)\n",
      "Requirement already satisfied: werkzeug>=1.0.1 in c:\\programdata\\anaconda3\\lib\\site-packages (from tensorboard~=2.19.0->tensorflow) (3.0.3)\n",
      "Requirement already satisfied: MarkupSafe>=2.1.1 in c:\\programdata\\anaconda3\\lib\\site-packages (from werkzeug>=1.0.1->tensorboard~=2.19.0->tensorflow) (2.1.3)\n",
      "Requirement already satisfied: markdown-it-py>=2.2.0 in c:\\programdata\\anaconda3\\lib\\site-packages (from rich->keras>=3.5.0->tensorflow) (2.2.0)\n",
      "Requirement already satisfied: pygments<3.0.0,>=2.13.0 in c:\\programdata\\anaconda3\\lib\\site-packages (from rich->keras>=3.5.0->tensorflow) (2.15.1)\n",
      "Requirement already satisfied: mdurl~=0.1 in c:\\programdata\\anaconda3\\lib\\site-packages (from markdown-it-py>=2.2.0->rich->keras>=3.5.0->tensorflow) (0.1.0)\n"
     ]
    }
   ],
   "source": [
    "!pip install tensorflow"
   ]
  },
  {
   "cell_type": "code",
   "execution_count": 4,
   "id": "x3TJWTV_nagT",
   "metadata": {
    "colab": {
     "base_uri": "https://localhost:8080/"
    },
    "id": "x3TJWTV_nagT",
    "outputId": "cb296b66-77a6-4685-bfd3-0d7c9f139c6c"
   },
   "outputs": [
    {
     "name": "stdout",
     "output_type": "stream",
     "text": [
      "Extracted features for 3000 images.\n"
     ]
    }
   ],
   "source": [
    "from tensorflow.keras.applications.inception_v3 import InceptionV3, preprocess_input\n",
    "from keras.preprocessing.image import load_img, img_to_array\n",
    "from keras.models import Model\n",
    "import numpy as np\n",
    "import os\n",
    "import pickle\n",
    "\n",
    "# Load InceptionV3 and remove final classification layer\n",
    "model_cnn = InceptionV3(weights='imagenet')\n",
    "model_cnn = Model(inputs=model_cnn.input, outputs=model_cnn.layers[-2].output)\n",
    "\n",
    "# Feature extractor function with limit\n",
    "def extract_features(directory, limit=3000):\n",
    "    features = {}\n",
    "    for i, img_name in enumerate(os.listdir(directory)):\n",
    "        if i >= limit:\n",
    "            break\n",
    "        filename = os.path.join(directory, img_name)\n",
    "        try:\n",
    "            image = load_img(filename, target_size=(299, 299))\n",
    "            image = img_to_array(image)\n",
    "            image = np.expand_dims(image, axis=0)\n",
    "            image = preprocess_input(image)\n",
    "            feature = model_cnn.predict(image, verbose=0)\n",
    "            features[img_name] = feature.flatten()\n",
    "        except Exception as e:\n",
    "            print(f\" Skipped {img_name}: {e}\")\n",
    "    return features\n",
    "\n",
    "# Extract and save features\n",
    "features = extract_features(IMAGE_DIR, limit=3000)\n",
    "\n",
    "# Save to file\n",
    "with open('features.pkl', 'wb') as f:\n",
    "    pickle.dump(features, f)\n",
    "\n",
    "print(f\"Extracted features for {len(features)} images.\")\n"
   ]
  },
  {
   "cell_type": "code",
   "execution_count": 4,
   "id": "I_vTQXznyDXB",
   "metadata": {
    "colab": {
     "base_uri": "https://localhost:8080/"
    },
    "id": "I_vTQXznyDXB",
    "outputId": "138a0412-d6dc-469e-de2b-d7dc7346029e"
   },
   "outputs": [
    {
     "name": "stdout",
     "output_type": "stream",
     "text": [
      " Loaded 3000 image features from file.\n"
     ]
    }
   ],
   "source": [
    "# Load previously saved features\n",
    "import pickle\n",
    "\n",
    "with open('features.pkl', 'rb') as f:\n",
    "    features = pickle.load(f)\n",
    "\n",
    "print(f\" Loaded {len(features)} image features from file.\")\n"
   ]
  },
  {
   "cell_type": "code",
   "execution_count": 6,
   "id": "pe6U21EMyIel",
   "metadata": {
    "colab": {
     "base_uri": "https://localhost:8080/"
    },
    "id": "pe6U21EMyIel",
    "outputId": "472dec30-a698-4f55-bf3e-0937431b702e"
   },
   "outputs": [
    {
     "name": "stdout",
     "output_type": "stream",
     "text": [
      "Vocabulary size: 8496\n",
      " Max caption length: 40\n"
     ]
    }
   ],
   "source": [
    "from tensorflow.keras.preprocessing.text import Tokenizer\n",
    "\n",
    "# Create tokenizer\n",
    "def create_tokenizer(descriptions):\n",
    "    all_desc = []\n",
    "    for desc_list in descriptions.values():\n",
    "        all_desc.extend(desc_list)\n",
    "    tokenizer = Tokenizer()\n",
    "    tokenizer.fit_on_texts(all_desc)\n",
    "    return tokenizer\n",
    "\n",
    "tokenizer = create_tokenizer(descriptions)\n",
    "vocab_size = len(tokenizer.word_index) + 1\n",
    "print(f\"Vocabulary size: {vocab_size}\")\n",
    "\n",
    "# Max length of captions\n",
    "def max_length(descriptions):\n",
    "    all_desc = [desc for descs in descriptions.values() for desc in descs]\n",
    "    return max(len(d.split()) for d in all_desc)\n",
    "\n",
    "max_len = max_length(descriptions)\n",
    "print(f\" Max caption length: {max_len}\")\n"
   ]
  },
  {
   "cell_type": "code",
   "execution_count": 7,
   "id": "8O4ft7tfygMb",
   "metadata": {
    "id": "8O4ft7tfygMb"
   },
   "outputs": [],
   "source": [
    "from keras.preprocessing.sequence import pad_sequences\n",
    "from keras.utils import to_categorical\n",
    "from keras.models import Model\n",
    "from keras.layers import Input, Dense, LSTM, Embedding, Dropout, add\n",
    "\n",
    "# Create input-output pairs for training\n",
    "def create_sequences(tokenizer, max_len, desc_list, photo, vocab_size):\n",
    "    X1, X2, y = [], [], []\n",
    "    for desc in desc_list:\n",
    "        seq = tokenizer.texts_to_sequences([desc])[0]\n",
    "        for i in range(1, len(seq)):\n",
    "            in_seq, out_seq = seq[:i], seq[i]\n",
    "            in_seq = pad_sequences([in_seq], maxlen=max_len)[0]\n",
    "            out_seq = to_categorical([out_seq], num_classes=vocab_size)[0]\n",
    "            X1.append(photo)\n",
    "            X2.append(in_seq)\n",
    "            y.append(out_seq)\n",
    "    return np.array(X1), np.array(X2), np.array(y)\n",
    "\n",
    "# Define the captioning model\n",
    "def define_model(vocab_size, max_len):\n",
    "    inputs1 = Input(shape=(2048,))\n",
    "    fe1 = Dropout(0.5)(inputs1)\n",
    "    fe2 = Dense(256, activation='relu')(fe1)\n",
    "\n",
    "    inputs2 = Input(shape=(max_len,))\n",
    "    se1 = Embedding(vocab_size, 256, mask_zero=True)(inputs2)\n",
    "    se2 = Dropout(0.5)(se1)\n",
    "    se3 = LSTM(256)(se2)\n",
    "\n",
    "    decoder1 = add([fe2, se3])\n",
    "    decoder2 = Dense(256, activation='relu')(decoder1)\n",
    "    outputs = Dense(vocab_size, activation='softmax')(decoder2)\n",
    "\n",
    "    model = Model(inputs=[inputs1, inputs2], outputs=outputs)\n",
    "    model.compile(loss='categorical_crossentropy', optimizer='adam')\n",
    "    return model\n",
    "\n",
    "model = define_model(vocab_size, max_len)\n"
   ]
  },
  {
   "cell_type": "code",
   "execution_count": 8,
   "id": "jr9wo2Y4yk0f",
   "metadata": {
    "id": "jr9wo2Y4yk0f"
   },
   "outputs": [
    {
     "name": "stdout",
     "output_type": "stream",
     "text": [
      " Epoch 1/15 complete.\n",
      " Epoch 2/15 complete.\n",
      " Epoch 3/15 complete.\n",
      " Epoch 4/15 complete.\n",
      " Epoch 5/15 complete.\n",
      " Epoch 6/15 complete.\n",
      " Epoch 7/15 complete.\n",
      " Epoch 8/15 complete.\n",
      " Epoch 9/15 complete.\n",
      " Epoch 10/15 complete.\n",
      " Epoch 11/15 complete.\n",
      " Epoch 12/15 complete.\n",
      " Epoch 13/15 complete.\n",
      " Epoch 14/15 complete.\n"
     ]
    },
    {
     "name": "stderr",
     "output_type": "stream",
     "text": [
      "WARNING:absl:You are saving your model as an HDF5 file via `model.save()` or `keras.saving.save_model(model)`. This file format is considered legacy. We recommend using instead the native Keras format, e.g. `model.save('my_model.keras')` or `keras.saving.save_model(model, 'my_model.keras')`. \n"
     ]
    },
    {
     "name": "stdout",
     "output_type": "stream",
     "text": [
      " Epoch 15/15 complete.\n",
      " Model, tokenizer, and features saved.\n"
     ]
    }
   ],
   "source": [
    "EPOCHS = 15\n",
    "\n",
    "available_imgs = list(features.keys())  # Only use images with features\n",
    "\n",
    "for i in range(EPOCHS):\n",
    "    for img_id in available_imgs:\n",
    "        if img_id in descriptions:\n",
    "            desc_list = descriptions[img_id]\n",
    "            photo = features[img_id]\n",
    "            X1, X2, y = create_sequences(tokenizer, max_len, desc_list, photo, vocab_size)\n",
    "            model.fit([X1, X2], y, epochs=1, verbose=0)\n",
    "    print(f\" Epoch {i+1}/{EPOCHS} complete.\")\n",
    "#  Save model and tokenizer\n",
    "model.save('caption_model.h5')\n",
    "\n",
    "import pickle\n",
    "with open('tokenizer.pkl', 'wb') as f:\n",
    "    pickle.dump(tokenizer, f)\n",
    "\n",
    "with open('features.pkl', 'wb') as f:\n",
    "    pickle.dump(features, f)\n",
    "\n",
    "print(\" Model, tokenizer, and features saved.\")\n"
   ]
  },
  {
   "cell_type": "code",
   "execution_count": 6,
   "id": "18e5aeb2-aef2-48f6-91bc-54af176909f8",
   "metadata": {},
   "outputs": [
    {
     "ename": "NameError",
     "evalue": "name 'model' is not defined",
     "output_type": "error",
     "traceback": [
      "\u001b[1;31m---------------------------------------------------------------------------\u001b[0m",
      "\u001b[1;31mNameError\u001b[0m                                 Traceback (most recent call last)",
      "Cell \u001b[1;32mIn[6], line 2\u001b[0m\n\u001b[0;32m      1\u001b[0m \u001b[38;5;66;03m#  Save model and tokenizer\u001b[39;00m\n\u001b[1;32m----> 2\u001b[0m model\u001b[38;5;241m.\u001b[39msave(\u001b[38;5;124m'\u001b[39m\u001b[38;5;124mcaption_model.h5\u001b[39m\u001b[38;5;124m'\u001b[39m)\n\u001b[0;32m      4\u001b[0m \u001b[38;5;28;01mimport\u001b[39;00m \u001b[38;5;21;01mpickle\u001b[39;00m\n\u001b[0;32m      5\u001b[0m \u001b[38;5;28;01mwith\u001b[39;00m \u001b[38;5;28mopen\u001b[39m(\u001b[38;5;124m'\u001b[39m\u001b[38;5;124mtokenizer.pkl\u001b[39m\u001b[38;5;124m'\u001b[39m, \u001b[38;5;124m'\u001b[39m\u001b[38;5;124mwb\u001b[39m\u001b[38;5;124m'\u001b[39m) \u001b[38;5;28;01mas\u001b[39;00m f:\n",
      "\u001b[1;31mNameError\u001b[0m: name 'model' is not defined"
     ]
    }
   ],
   "source": [
    "#  Save model and tokenizer\n",
    "model.save('caption_model.h5')\n",
    "\n",
    "import pickle\n",
    "with open('tokenizer.pkl', 'wb') as f:\n",
    "    pickle.dump(tokenizer, f)\n",
    "\n",
    "with open('features.pkl', 'wb') as f:\n",
    "    pickle.dump(features, f)\n",
    "\n",
    "print(\" Model, tokenizer, and features saved.\")"
   ]
  },
  {
   "cell_type": "code",
   "execution_count": 2,
   "id": "w5MVNFe76iiS",
   "metadata": {
    "id": "w5MVNFe76iiS"
   },
   "outputs": [],
   "source": [
    "# Generate caption for an image\n",
    "def generate_caption(model, tokenizer, photo, max_len):\n",
    "    in_text = 'startseq'\n",
    "    for _ in range(max_len):\n",
    "        sequence = tokenizer.texts_to_sequences([in_text])[0]\n",
    "        sequence = pad_sequences([sequence], maxlen=max_len)\n",
    "        yhat = model.predict([photo, sequence], verbose=0)\n",
    "        yhat = np.argmax(yhat)\n",
    "        word = None\n",
    "        for w, index in tokenizer.word_index.items():\n",
    "            if index == yhat:\n",
    "                word = w\n",
    "                break\n",
    "        if word is None:\n",
    "            break\n",
    "        in_text += ' ' + word\n",
    "        if word == 'endseq':\n",
    "            break\n",
    "    return in_text\n"
   ]
  },
  {
   "cell_type": "code",
   "execution_count": 5,
   "id": "j1LuMeAB7t4x",
   "metadata": {
    "id": "j1LuMeAB7t4x"
   },
   "outputs": [
    {
     "ename": "NameError",
     "evalue": "name 'model' is not defined",
     "output_type": "error",
     "traceback": [
      "\u001b[1;31m---------------------------------------------------------------------------\u001b[0m",
      "\u001b[1;31mNameError\u001b[0m                                 Traceback (most recent call last)",
      "Cell \u001b[1;32mIn[5], line 6\u001b[0m\n\u001b[0;32m      4\u001b[0m sample_image \u001b[38;5;241m=\u001b[39m \u001b[38;5;28mlist\u001b[39m(features\u001b[38;5;241m.\u001b[39mkeys())[\u001b[38;5;241m0\u001b[39m]\n\u001b[0;32m      5\u001b[0m photo \u001b[38;5;241m=\u001b[39m features[sample_image]\u001b[38;5;241m.\u001b[39mreshape((\u001b[38;5;241m1\u001b[39m, \u001b[38;5;241m2048\u001b[39m))\n\u001b[1;32m----> 6\u001b[0m caption \u001b[38;5;241m=\u001b[39m generate_caption(model, tokenizer, photo, max_len)\n\u001b[0;32m      8\u001b[0m display(Image(os\u001b[38;5;241m.\u001b[39mpath\u001b[38;5;241m.\u001b[39mjoin(IMAGE_DIR, sample_image)))\n\u001b[0;32m      9\u001b[0m \u001b[38;5;28mprint\u001b[39m(\u001b[38;5;124m\"\u001b[39m\u001b[38;5;124m Caption:\u001b[39m\u001b[38;5;124m\"\u001b[39m, caption)\n",
      "\u001b[1;31mNameError\u001b[0m: name 'model' is not defined"
     ]
    }
   ],
   "source": [
    "from IPython.display import Image, display\n",
    "\n",
    "# Pick a random image\n",
    "sample_image = list(features.keys())[0]\n",
    "photo = features[sample_image].reshape((1, 2048))\n",
    "caption = generate_caption(model, tokenizer, photo, max_len)\n",
    "\n",
    "display(Image(os.path.join(IMAGE_DIR, sample_image)))\n",
    "print(\" Caption:\", caption)\n"
   ]
  },
  {
   "cell_type": "code",
   "execution_count": null,
   "id": "K_wV6U_R6lqK",
   "metadata": {
    "id": "K_wV6U_R6lqK"
   },
   "outputs": [],
   "source": []
  }
 ],
 "metadata": {
  "colab": {
   "provenance": []
  },
  "kernelspec": {
   "display_name": "Python 3 (ipykernel)",
   "language": "python",
   "name": "python3"
  },
  "language_info": {
   "codemirror_mode": {
    "name": "ipython",
    "version": 3
   },
   "file_extension": ".py",
   "mimetype": "text/x-python",
   "name": "python",
   "nbconvert_exporter": "python",
   "pygments_lexer": "ipython3",
   "version": "3.12.7"
  }
 },
 "nbformat": 4,
 "nbformat_minor": 5
}
